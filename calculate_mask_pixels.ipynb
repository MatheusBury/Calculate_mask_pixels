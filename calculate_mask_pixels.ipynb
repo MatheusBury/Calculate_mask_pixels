{
 "cells": [
  {
   "cell_type": "code",
   "execution_count": 5,
   "metadata": {},
   "outputs": [],
   "source": [
    "from PIL import Image\n",
    "import pandas as pd \n",
    "import numpy as np\n",
    "import os\n",
    "\n",
    "\n",
    "\n"
   ]
  },
  {
   "cell_type": "code",
   "execution_count": 6,
   "metadata": {},
   "outputs": [
    {
     "name": "stdout",
     "output_type": "stream",
     "text": [
      "Maior valor de porcentagem de pixels coloridos: 9.137427501731302\n",
      "Menor valor de porcentagem de pixels coloridos: 0.7108671658587257\n",
      "Valor médio de porcentagem de pixels coloridos: 2.1796235309393843\n"
     ]
    }
   ],
   "source": [
    "import os\n",
    "from PIL import Image\n",
    "import pandas as pd\n",
    "\n",
    "folder_path = r'C:\\Users\\Operacao\\Documents\\Calculate mask pixels\\mv24\\3d_mask_3R_3_Q04_2023_TOPSIDE_M42_DECK_POPA\\3d_mask_3R_3_Q04_2023_TOPSIDE_M42_DECK_POPA\\modec'\n",
    "\n",
    "list_names = []\n",
    "list_count = []\n",
    "\n",
    "for filename in os.listdir(folder_path):\n",
    "    # Construct the full file path\n",
    "    file_path = os.path.join(folder_path, filename)\n",
    "    # Check if the file is an image (simple check based on file extension)\n",
    "    if file_path.lower().endswith(('.png', '.jpg', '.jpeg', '.bmp', '.gif', '.tiff')):\n",
    "        image = Image.open(file_path)\n",
    "        image = image.convert('RGB')\n",
    "        colored_pixel_count = 0\n",
    "        width, height = image.size\n",
    "        size = width * height\n",
    "        for x in range(width):\n",
    "            for y in range(height):\n",
    "                # Get the color of the pixel\n",
    "                r, g, b = image.getpixel((x, y))\n",
    "                # Check if the pixel is not purely black or white\n",
    "                if (r, g, b) != (0, 0, 0) and (r, g, b) != (255, 255, 255):\n",
    "                    # Increment the count of colored pixels\n",
    "                    colored_pixel_count += 1\n",
    "        percentage_mask = (colored_pixel_count / size) * 100\n",
    "        list_names.append(filename)\n",
    "        list_count.append(percentage_mask)\n",
    "\n",
    "df = pd.DataFrame({'img_name': list_names, 'mask_pixels': list_count})\n",
    "\n",
    "# Salvando o DataFrame em um arquivo Excel\n",
    "excel_file_path = r'C:\\Users\\Operacao\\Documents\\pixels.xlsx'\n",
    "df.to_excel(excel_file_path, index=False)\n",
    "\n",
    "print(\"DataFrame salvo como Excel em:\", excel_file_path)\n"
   ]
  },
  {
   "cell_type": "code",
   "execution_count": null,
   "metadata": {},
   "outputs": [],
   "source": []
  }
 ],
 "metadata": {
  "kernelspec": {
   "display_name": "base",
   "language": "python",
   "name": "python3"
  },
  "language_info": {
   "codemirror_mode": {
    "name": "ipython",
    "version": 3
   },
   "file_extension": ".py",
   "mimetype": "text/x-python",
   "name": "python",
   "nbconvert_exporter": "python",
   "pygments_lexer": "ipython3",
   "version": "3.11.7"
  }
 },
 "nbformat": 4,
 "nbformat_minor": 2
}
